{
 "cells": [
  {
   "cell_type": "code",
   "execution_count": 8,
   "metadata": {},
   "outputs": [],
   "source": [
    "import pandas as pd\n",
    "import mysql.connector\n",
    "import numpy as np\n",
    "\n",
    "\n"
   ]
  },
  {
   "cell_type": "code",
   "execution_count": 9,
   "metadata": {},
   "outputs": [],
   "source": [
    "df1 = pd.read_csv(r\"D:\\vscode1\\redbus_selenium\\ap2.csv\")\n",
    "df2 = pd.read_csv(r\"D:\\vscode1\\redbus_selenium\\as2.csv\")\n",
    "df3 = pd.read_csv(r\"D:\\vscode1\\redbus_selenium\\ch2.csv\")\n",
    "df4 = pd.read_csv(r\"D:\\vscode1\\redbus_selenium\\HR2.csv\")\n",
    "df5 = pd.read_csv(r\"D:\\vscode1\\redbus_selenium\\j&K2.csv\")\n",
    "df6 = pd.read_csv(r\"D:\\vscode1\\redbus_selenium\\kada2.csv\")\n",
    "df7 = pd.read_csv(r\"D:\\vscode1\\redbus_selenium\\kr2.csv\")\n",
    "df8 = pd.read_csv(r\"D:\\vscode1\\redbus_selenium\\Ts2.csv\")\n",
    "df9 = pd.read_csv(r\"D:\\vscode1\\redbus_selenium\\up2.csv\")\n",
    "df10 = pd.read_csv(r\"D:\\vscode1\\redbus_selenium\\wb2.csv\")\n",
    "\n"
   ]
  },
  {
   "cell_type": "code",
   "execution_count": 10,
   "metadata": {},
   "outputs": [],
   "source": [
    "\n",
    "final_df = pd.concat([df1,df2,df3,df4,df5,df6,df7,df8,df9,df10],ignore_index = True)"
   ]
  },
  {
   "cell_type": "code",
   "execution_count": 11,
   "metadata": {},
   "outputs": [
    {
     "name": "stdout",
     "output_type": "stream",
     "text": [
      "<class 'pandas.core.frame.DataFrame'>\n",
      "RangeIndex: 2770 entries, 0 to 2769\n",
      "Data columns (total 10 columns):\n",
      " #   Column           Non-Null Count  Dtype  \n",
      "---  ------           --------------  -----  \n",
      " 0   Bus_name         2088 non-null   object \n",
      " 1   Bus_type         2051 non-null   object \n",
      " 2   Start_time       2088 non-null   object \n",
      " 3   End_time         2088 non-null   object \n",
      " 4   Total_duration   2088 non-null   object \n",
      " 5   Price            2085 non-null   object \n",
      " 6   Seats_Available  2066 non-null   object \n",
      " 7   Rating           2045 non-null   float64\n",
      " 8   Route_link       2770 non-null   object \n",
      " 9   Route_name       2770 non-null   object \n",
      "dtypes: float64(1), object(9)\n",
      "memory usage: 216.5+ KB\n"
     ]
    }
   ],
   "source": [
    "final_df.info()"
   ]
  },
  {
   "cell_type": "code",
   "execution_count": 12,
   "metadata": {},
   "outputs": [],
   "source": [
    "final_df[\"Price\"]=final_df[\"Price\"].str.replace(\"INR\",\"\")\n"
   ]
  },
  {
   "cell_type": "code",
   "execution_count": 13,
   "metadata": {},
   "outputs": [],
   "source": [
    "final_df[\"Price\"]=final_df[\"Price\"].astype(float)\n",
    "\n"
   ]
  },
  {
   "cell_type": "code",
   "execution_count": 14,
   "metadata": {},
   "outputs": [
    {
     "data": {
      "text/plain": [
       "0       737.0\n",
       "1       412.0\n",
       "2       737.0\n",
       "3         NaN\n",
       "4         NaN\n",
       "        ...  \n",
       "2765    524.0\n",
       "2766    524.0\n",
       "2767    524.0\n",
       "2768    524.0\n",
       "2769    524.0\n",
       "Name: Price, Length: 2770, dtype: float64"
      ]
     },
     "execution_count": 14,
     "metadata": {},
     "output_type": "execute_result"
    }
   ],
   "source": [
    "final_df[\"Price\"]"
   ]
  },
  {
   "cell_type": "code",
   "execution_count": 15,
   "metadata": {},
   "outputs": [
    {
     "data": {
      "text/plain": [
       "0       737.0\n",
       "1       412.0\n",
       "2       737.0\n",
       "3         0.0\n",
       "4         0.0\n",
       "        ...  \n",
       "2765    524.0\n",
       "2766    524.0\n",
       "2767    524.0\n",
       "2768    524.0\n",
       "2769    524.0\n",
       "Name: Price, Length: 2770, dtype: float64"
      ]
     },
     "execution_count": 15,
     "metadata": {},
     "output_type": "execute_result"
    }
   ],
   "source": [
    "final_df[\"Price\"].fillna(0) \n"
   ]
  },
  {
   "cell_type": "code",
   "execution_count": 16,
   "metadata": {},
   "outputs": [],
   "source": [
    "final_df = final_df.replace({np.nan: None})"
   ]
  },
  {
   "cell_type": "code",
   "execution_count": null,
   "metadata": {},
   "outputs": [],
   "source": [
    "final_df[\"Rating\"].fillna(0,inplace=True) \n"
   ]
  },
  {
   "cell_type": "code",
   "execution_count": 18,
   "metadata": {},
   "outputs": [
    {
     "data": {
      "text/plain": [
       "0       3.9\n",
       "1       4.0\n",
       "2       3.8\n",
       "3       0.0\n",
       "4       0.0\n",
       "       ... \n",
       "2765    4.5\n",
       "2766    4.0\n",
       "2767    0.0\n",
       "2768    0.0\n",
       "2769    0.0\n",
       "Name: Rating, Length: 2770, dtype: float64"
      ]
     },
     "execution_count": 18,
     "metadata": {},
     "output_type": "execute_result"
    }
   ],
   "source": [
    "final_df[\"Rating\"]"
   ]
  },
  {
   "cell_type": "code",
   "execution_count": 20,
   "metadata": {},
   "outputs": [
    {
     "name": "stdout",
     "output_type": "stream",
     "text": [
      "<class 'pandas.core.frame.DataFrame'>\n",
      "RangeIndex: 2770 entries, 0 to 2769\n",
      "Data columns (total 10 columns):\n",
      " #   Column           Non-Null Count  Dtype  \n",
      "---  ------           --------------  -----  \n",
      " 0   Bus_name         2088 non-null   object \n",
      " 1   Bus_type         2051 non-null   object \n",
      " 2   Start_time       2088 non-null   object \n",
      " 3   End_time         2088 non-null   object \n",
      " 4   Total_duration   2088 non-null   object \n",
      " 5   Price            2085 non-null   object \n",
      " 6   Seats_Available  2066 non-null   object \n",
      " 7   Rating           2770 non-null   float64\n",
      " 8   Route_link       2770 non-null   object \n",
      " 9   Route_name       2770 non-null   object \n",
      "dtypes: float64(1), object(9)\n",
      "memory usage: 216.5+ KB\n"
     ]
    }
   ],
   "source": [
    "final_df.info()"
   ]
  },
  {
   "cell_type": "markdown",
   "metadata": {},
   "source": [
    "Create a mysql database\n"
   ]
  },
  {
   "cell_type": "code",
   "execution_count": 21,
   "metadata": {},
   "outputs": [],
   "source": [
    "# change dataframe to csv\n",
    "final_df.to_csv(\"final.csv\",index=False)"
   ]
  },
  {
   "cell_type": "code",
   "execution_count": 25,
   "metadata": {},
   "outputs": [],
   "source": [
    "import mysql.connector\n",
    "mydb=mysql.connector.connect(\n",
    "host=\"localhost\",\n",
    "user=\"root\",\n",
    "password=\"\",\n",
    "#database='Joins'\n",
    ")\n"
   ]
  },
  {
   "cell_type": "code",
   "execution_count": 26,
   "metadata": {},
   "outputs": [
    {
     "name": "stdout",
     "output_type": "stream",
     "text": [
      "<mysql.connector.connection_cext.CMySQLConnection object at 0x00000258E506BD00>\n"
     ]
    }
   ],
   "source": [
    "print(mydb)"
   ]
  },
  {
   "cell_type": "code",
   "execution_count": 27,
   "metadata": {},
   "outputs": [],
   "source": [
    "mycursor=mydb.cursor(buffered=True)\n"
   ]
  },
  {
   "cell_type": "code",
   "execution_count": 28,
   "metadata": {},
   "outputs": [],
   "source": [
    "mycursor.execute(\"CREATE DATABASE REDBUS\")"
   ]
  },
  {
   "cell_type": "code",
   "execution_count": 29,
   "metadata": {},
   "outputs": [],
   "source": [
    "mycursor.execute(\"use REDBUS\")"
   ]
  },
  {
   "cell_type": "code",
   "execution_count": 30,
   "metadata": {},
   "outputs": [
    {
     "name": "stdout",
     "output_type": "stream",
     "text": [
      "Table Created successfully\n"
     ]
    }
   ],
   "source": [
    "# Table Creation\n",
    "mycursor.execute('''CREATE TABLE bus_details(\n",
    "                  ID INT AUTO_INCREMENT PRIMARY KEY,\n",
    "                  Bus_name VARCHAR(255) NOT NULL,\n",
    "                  Bus_type VARCHAR(255) NOT NULL,\n",
    "                  Start_time VARCHAR(255) NOT NULL,\n",
    "                  End_time VARCHAR(255) NOT NULL,\n",
    "                  Total_duration VARCHAR(255) NOT NULL,\n",
    "                  Price FLOAT NULL,\n",
    "                  Seats_Available VARCHAR(255) NOT NULL,\n",
    "                  Rating Float NULL,\n",
    "                  Route_link VARCHAR(255) NULL,\n",
    "                  Route_name VARCHAR(255) NULL\n",
    "                  )''')\n",
    "print(\"Table Created successfully\")\n",
    "\n"
   ]
  },
  {
   "cell_type": "code",
   "execution_count": 31,
   "metadata": {},
   "outputs": [
    {
     "name": "stdout",
     "output_type": "stream",
     "text": [
      "Values inserted successfully\n"
     ]
    }
   ],
   "source": [
    "# SQL query to insert data into bus_details table\n",
    "insert_query = '''INSERT INTO bus_details(\n",
    "                    Bus_name,\n",
    "                    Bus_type,\n",
    "                    Start_time,\n",
    "                    End_time,\n",
    "                    Total_duration,\n",
    "                    Price,\n",
    "                    Seats_Available,\n",
    "                    Rating,\n",
    "                    Route_link,\n",
    "                    Route_name)\n",
    "                  VALUES(%s, %s, %s, %s, %s, %s, %s, %s, %s, %s)'''\n",
    "data = final_df.values.tolist()\n",
    "\n",
    "mycursor.executemany(insert_query, data)\n",
    "\n",
    "mydb.commit()\n",
    "\n",
    "print(\"Values inserted successfully\")"
   ]
  },
  {
   "cell_type": "code",
   "execution_count": null,
   "metadata": {},
   "outputs": [],
   "source": []
  }
 ],
 "metadata": {
  "kernelspec": {
   "display_name": ".venv",
   "language": "python",
   "name": "python3"
  },
  "language_info": {
   "codemirror_mode": {
    "name": "ipython",
    "version": 3
   },
   "file_extension": ".py",
   "mimetype": "text/x-python",
   "name": "python",
   "nbconvert_exporter": "python",
   "pygments_lexer": "ipython3",
   "version": "3.10.11"
  }
 },
 "nbformat": 4,
 "nbformat_minor": 2
}
